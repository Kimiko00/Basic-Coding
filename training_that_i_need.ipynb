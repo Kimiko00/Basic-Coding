{
  "nbformat": 4,
  "nbformat_minor": 0,
  "metadata": {
    "colab": {
      "name": "training that i need.ipynb",
      "provenance": [],
      "collapsed_sections": [],
      "authorship_tag": "ABX9TyPf8EgKFxmN/MFEBRUsXIcm",
      "include_colab_link": true
    },
    "kernelspec": {
      "name": "python3",
      "display_name": "Python 3"
    }
  },
  "cells": [
    {
      "cell_type": "markdown",
      "metadata": {
        "id": "view-in-github",
        "colab_type": "text"
      },
      "source": [
        "<a href=\"https://colab.research.google.com/github/Kimiko00/Basic-Coding/blob/main/training_that_i_need.ipynb\" target=\"_parent\"><img src=\"https://colab.research.google.com/assets/colab-badge.svg\" alt=\"Open In Colab\"/></a>"
      ]
    },
    {
      "cell_type": "code",
      "metadata": {
        "id": "caqM_aeDv0ox",
        "colab": {
          "base_uri": "https://localhost:8080/",
          "height": 85
        },
        "outputId": "c05d57fd-e670-453b-e9cd-cf7010aca19b"
      },
      "source": [
        "while True:\n",
        "  feeling = input('Hi how are you today?')\n",
        "  if feeling.lower() == 'great':\n",
        "    print(\"nice i'm feeling great too XD\")\n",
        "    break\n",
        "  else:\n",
        "    print('get well soon okay')"
      ],
      "execution_count": null,
      "outputs": [
        {
          "output_type": "stream",
          "text": [
            "Hi how are you today?bad\n",
            "get well soon okay\n",
            "Hi how are you today?great\n",
            "nice i'm feeling great too XD\n"
          ],
          "name": "stdout"
        }
      ]
    },
    {
      "cell_type": "code",
      "metadata": {
        "id": "qM-O6sS3bWfM",
        "colab": {
          "base_uri": "https://localhost:8080/",
          "height": 51
        },
        "outputId": "00e40640-9c5d-4a79-c4fb-c74fc6974fff"
      },
      "source": [
        "var1 = 100\n",
        "\n",
        "if var1:\n",
        "  print(\"1 - Got a true expression value\")\n",
        "  print(var1)\n",
        "  \n",
        "var2 = 0\n",
        "\n",
        "if var2:\n",
        "  print(\"2 - Got a true expression value\")\n",
        "  print(var2)\n"
      ],
      "execution_count": null,
      "outputs": [
        {
          "output_type": "stream",
          "text": [
            "1 - Got a true expression value\n",
            "100\n"
          ],
          "name": "stdout"
        }
      ]
    },
    {
      "cell_type": "markdown",
      "metadata": {
        "id": "sbPAl68HjJRg"
      },
      "source": [
        "**use else to show the outprinted value**"
      ]
    },
    {
      "cell_type": "code",
      "metadata": {
        "id": "X55tKzdAgHZZ",
        "colab": {
          "base_uri": "https://localhost:8080/",
          "height": 153
        },
        "outputId": "bfd0c439-c3fa-405d-b682-739e5a8ae7a8"
      },
      "source": [
        "for n in range(2, 10):\n",
        "  for x in range(2, n):\n",
        "    if n % x == 0:\n",
        "      print(n, 'equals', x, '*', n/x)\n",
        "      break\n",
        "  \n",
        "  else:\n",
        "    print(n, 'Is a prime number')"
      ],
      "execution_count": null,
      "outputs": [
        {
          "output_type": "stream",
          "text": [
            "2 Is a prime number\n",
            "3 Is a prime number\n",
            "4 equals 2 * 2.0\n",
            "5 Is a prime number\n",
            "6 equals 2 * 3.0\n",
            "7 Is a prime number\n",
            "8 equals 2 * 4.0\n",
            "9 equals 3 * 3.0\n"
          ],
          "name": "stdout"
        }
      ]
    },
    {
      "cell_type": "markdown",
      "metadata": {
        "id": "6YRPcTjVjjn8"
      },
      "source": [
        "**SIMPLE COMPREHENSION**"
      ]
    },
    {
      "cell_type": "code",
      "metadata": {
        "id": "8q4elDJUhcV5",
        "colab": {
          "base_uri": "https://localhost:8080/",
          "height": 34
        },
        "outputId": "23688056-906c-46cf-9263-07402ac5016c"
      },
      "source": [
        "numbers = [1, 2, 3, 4, 5]\n",
        "\n",
        "square = [n**2 for n in numbers]    #this is a simple comprehension for looping all number raised by 2 \n",
        "\n",
        "print(square)"
      ],
      "execution_count": null,
      "outputs": [
        {
          "output_type": "stream",
          "text": [
            "[1, 4, 9, 16, 25]\n"
          ],
          "name": "stdout"
        }
      ]
    },
    {
      "cell_type": "code",
      "metadata": {
        "id": "oca15jeakIvR",
        "colab": {
          "base_uri": "https://localhost:8080/",
          "height": 34
        },
        "outputId": "d1243a7e-60d2-4104-e151-5beb16d63989"
      },
      "source": [
        "list_a = [1, 2, 3, 4]\n",
        "list_b = [2, 3, 4, 5]\n",
        "\n",
        "common_num = [a for a in list_a for b in list_b if a == b]\n",
        "\n",
        "print(common_num)"
      ],
      "execution_count": null,
      "outputs": [
        {
          "output_type": "stream",
          "text": [
            "[2, 3, 4]\n"
          ],
          "name": "stdout"
        }
      ]
    },
    {
      "cell_type": "code",
      "metadata": {
        "id": "0xmRpFFPkk5w",
        "colab": {
          "base_uri": "https://localhost:8080/",
          "height": 34
        },
        "outputId": "e21b7e99-1bd3-4dc3-9488-87294199635a"
      },
      "source": [
        "list_a = [\"Hello\", \"World\", \"In\", \"Python\"]\n",
        "\n",
        "small_list_a = [_.lower() for _ in list_a]\n",
        "\n",
        "print(small_list_a)"
      ],
      "execution_count": null,
      "outputs": [
        {
          "output_type": "stream",
          "text": [
            "['hello', 'world', 'in', 'python']\n"
          ],
          "name": "stdout"
        }
      ]
    },
    {
      "cell_type": "code",
      "metadata": {
        "id": "B7SlyP6slM80",
        "colab": {
          "base_uri": "https://localhost:8080/",
          "height": 34
        },
        "outputId": "9dfe859a-a0ea-45a2-ffee-7ae752313d00"
      },
      "source": [
        "list_a = range(1, 10, 2)\n",
        "\n",
        "x = [[a**2, a**3] for a in list_a]\n",
        "print(x)"
      ],
      "execution_count": null,
      "outputs": [
        {
          "output_type": "stream",
          "text": [
            "[[1, 1], [9, 27], [25, 125], [49, 343], [81, 729]]\n"
          ],
          "name": "stdout"
        }
      ]
    },
    {
      "cell_type": "markdown",
      "metadata": {
        "id": "DBEeqSkBrk6Y"
      },
      "source": [
        "**LOOPING SEDERHANA**"
      ]
    },
    {
      "cell_type": "code",
      "metadata": {
        "id": "oYtaC4AXrkpC",
        "colab": {
          "base_uri": "https://localhost:8080/",
          "height": 204
        },
        "outputId": "45a82640-e984-4e28-fd70-0ddee93bffe7"
      },
      "source": [
        "var = 10\n",
        "\n",
        "while 0 < var:\n",
        "  print('Current Values is: {}'.format(var))\n",
        "  var -= 1\n",
        "\n",
        "  if var == 6:\n",
        "    print(\"<<this number got skipped>>\")\n",
        "    continue"
      ],
      "execution_count": null,
      "outputs": [
        {
          "output_type": "stream",
          "text": [
            "Current Values is: 10\n",
            "Current Values is: 9\n",
            "Current Values is: 8\n",
            "Current Values is: 7\n",
            "<<this number got skipped>>\n",
            "Current Values is: 6\n",
            "Current Values is: 5\n",
            "Current Values is: 4\n",
            "Current Values is: 3\n",
            "Current Values is: 2\n",
            "Current Values is: 1\n"
          ],
          "name": "stdout"
        }
      ]
    },
    {
      "cell_type": "code",
      "metadata": {
        "id": "_o2whndxtDg4",
        "colab": {
          "base_uri": "https://localhost:8080/",
          "height": 102
        },
        "outputId": "f1dc42cc-bcf2-46e5-cff1-9514e734974c"
      },
      "source": [
        "import sys\n",
        "data=''\n",
        "while(data!='exit'):\n",
        "    try:\n",
        "        data=input('Please enter an integer (type exit to exit): ')\n",
        "        print('got integer: {}'.format(int(data)))\n",
        "    except:\n",
        "        if data == 'exit':\n",
        "            pass  # exit gracefully without prompt any error\n",
        "        else:\n",
        "            print('error: {}'.format(sys.exc_info()[0]))"
      ],
      "execution_count": null,
      "outputs": [
        {
          "output_type": "stream",
          "text": [
            "Please enter an integer (type exit to exit): a\n",
            "error: <class 'ValueError'>\n",
            "Please enter an integer (type exit to exit): 1\n",
            "got integer: 1\n",
            "Please enter an integer (type exit to exit): exit\n"
          ],
          "name": "stdout"
        }
      ]
    },
    {
      "cell_type": "markdown",
      "metadata": {
        "id": "n2ETsh9qdXz9"
      },
      "source": [
        "**VARIABLE - LENGTH ARGUMENTS**\n"
      ]
    },
    {
      "cell_type": "code",
      "metadata": {
        "id": "1V8hGwRcdX73",
        "colab": {
          "base_uri": "https://localhost:8080/",
          "height": 255
        },
        "outputId": "000f8c01-98e1-40fb-a5e2-e6c7decf892b"
      },
      "source": [
        "def printinfo(*args, **kwargs):\n",
        "    for a in args:\n",
        "        print('argumen posisi {}'.format(a))\n",
        "    for key, value in kwargs.items():\n",
        "        print('argument kata kunci {}:{}'.format(key, value))\n",
        " \n",
        " \n",
        "# Panggil printinfo\n",
        "printinfo()\n",
        "printinfo(1, 2, 3)\n",
        "printinfo(i=7, j=8, k=9)\n",
        "printinfo(1, 2, j=8, k=9)\n",
        "printinfo(*(2, 3), **{'i':7, 'j':8})"
      ],
      "execution_count": null,
      "outputs": [
        {
          "output_type": "stream",
          "text": [
            "argumen posisi 1\n",
            "argumen posisi 2\n",
            "argumen posisi 3\n",
            "argument kata kunci i:7\n",
            "argument kata kunci j:8\n",
            "argument kata kunci k:9\n",
            "argumen posisi 1\n",
            "argumen posisi 2\n",
            "argument kata kunci j:8\n",
            "argument kata kunci k:9\n",
            "argumen posisi 2\n",
            "argumen posisi 3\n",
            "argument kata kunci i:7\n",
            "argument kata kunci j:8\n"
          ],
          "name": "stdout"
        }
      ]
    },
    {
      "cell_type": "markdown",
      "metadata": {
        "id": "PW86dZM-eV8A"
      },
      "source": [
        "**SCOPE VARIABLE**"
      ]
    },
    {
      "cell_type": "code",
      "metadata": {
        "id": "R0aPiLYjdus4",
        "colab": {
          "base_uri": "https://localhost:8080/",
          "height": 51
        },
        "outputId": "a1b43624-ed2c-4a5b-cf8b-0d2a32f8b344"
      },
      "source": [
        "total = 0  # This is global variable.\n",
        "# fungsi didefinisikan di bawah ini\n",
        "def sum(arg1, arg2):\n",
        "    global total\n",
        "    total = arg1 + arg2 # variabel lokal total\n",
        "    print('Inside the function local total: ', total)\n",
        "    return total\n",
        " \n",
        "sum(10, 20)\n",
        "print('Outside the function (global) total: ', total)"
      ],
      "execution_count": null,
      "outputs": [
        {
          "output_type": "stream",
          "text": [
            "Inside the function local total:  30\n",
            "Outside the function (global) total:  30\n"
          ],
          "name": "stdout"
        }
      ]
    },
    {
      "cell_type": "markdown",
      "metadata": {
        "id": "RH-p5THtg9k3"
      },
      "source": [
        "**OOP - CONSTRUCTOR**"
      ]
    },
    {
      "cell_type": "code",
      "metadata": {
        "id": "-xUKJwAJeaIJ",
        "colab": {
          "base_uri": "https://localhost:8080/",
          "height": 34
        },
        "outputId": "ec8ea603-54c4-447f-fea8-768a5d9d5250"
      },
      "source": [
        "class Kalkulator:\n",
        "    \"\"\"contoh kelas kalkulator sederhana\"\"\"\n",
        " \n",
        "    def f(self):\n",
        "        return 'hello world'\n",
        " \n",
        "    @classmethod\n",
        "    def tambah_angka(cls, angka1, angka2):\n",
        "        return '{} + {} = {}'.format(angka1, angka2, angka1 + angka2)\n",
        "\n",
        "Kalkulator.tambah_angka(1, 2)  # tanpa perlu memberikan masukan untuk argumen cls\n",
        "k = Kalkulator()\n",
        "k.tambah_angka(1, 2)"
      ],
      "execution_count": null,
      "outputs": [
        {
          "output_type": "execute_result",
          "data": {
            "text/plain": [
              "'1 + 2 = 3'"
            ]
          },
          "metadata": {
            "tags": []
          },
          "execution_count": 5
        }
      ]
    },
    {
      "cell_type": "markdown",
      "metadata": {
        "id": "WQ-W9VUZhjhP"
      },
      "source": [
        "**OOP - INHERITANCE**"
      ]
    },
    {
      "cell_type": "code",
      "metadata": {
        "id": "oTnhDAPGhjqs",
        "colab": {
          "base_uri": "https://localhost:8080/",
          "height": 68
        },
        "outputId": "03a8e8fc-7473-4efb-b135-c2e9754bee2c"
      },
      "source": [
        "class Kalkulator:\n",
        "    \"\"\"contoh kelas kalkulator sederhana. anggap kelas ini tidak boleh diubah!\"\"\"\n",
        " \n",
        "    def __init__(self, nilai=0):\n",
        "        self.nilai = nilai\n",
        " \n",
        "    def tambah_angka(self, angka1, angka2):\n",
        "        self.nilai = angka1 + angka2\n",
        "        if self.nilai > 9:  # kalkulator sederhana hanya memroses sampai 9\n",
        "            print('kalkulator sederhana melebihi batas angka: {}'.format(self.nilai))\n",
        "        return self.nilai\n",
        "\n",
        "class KalkulatorKali(Kalkulator):\n",
        "    \"\"\"contoh mewarisi kelas kalkulator sederhana\"\"\"\n",
        " \n",
        "    def kali_angka(self, angka1, angka2):\n",
        "        self.nilai = angka1 * angka2\n",
        "        return self.nilai\n",
        "\n",
        "kk = KalkulatorKali()\n",
        "a = kk.kali_angka(2, 3)  # sesuai dengan definisi class memiliki fitur kali_angka\n",
        "print(a)\n",
        " \n",
        "b = kk.tambah_angka(5, 6)  # memiliki fitur tambah_angka karena mewarisi dari Kalkulator\n",
        "print(b)"
      ],
      "execution_count": null,
      "outputs": [
        {
          "output_type": "stream",
          "text": [
            "6\n",
            "kalkulator sederhana melebihi batas angka: 11\n",
            "11\n"
          ],
          "name": "stdout"
        }
      ]
    },
    {
      "cell_type": "markdown",
      "metadata": {
        "id": "8E7BIYPziTcr"
      },
      "source": [
        "**OOP - OVERRIDE**"
      ]
    },
    {
      "cell_type": "code",
      "metadata": {
        "id": "muqvcTmRiTjX",
        "colab": {
          "base_uri": "https://localhost:8080/",
          "height": 34
        },
        "outputId": "b4273b76-c5c0-44a0-ae3a-31604307de21"
      },
      "source": [
        "class KalkulatorKali(Kalkulator):\n",
        "    \"\"\"contoh mewarisi kelas kalkulator sederhana\"\"\"\n",
        " \n",
        "    def kali_angka(self, angka1, angka2):\n",
        "        self.nilai = angka1 * angka2\n",
        "        return self.nilai\n",
        " \n",
        "    def tambah_angka(self, angka1, angka2):\n",
        "        self.nilai = angka1 + angka2\n",
        "        return self.nilai\n",
        "\n",
        "kk = KalkulatorKali()\n",
        " \n",
        "b = kk.tambah_angka(5, 6)  # fitur tambah_angka yang dipanggil milik KalkulatorKali\n",
        "print(b)"
      ],
      "execution_count": null,
      "outputs": [
        {
          "output_type": "stream",
          "text": [
            "11\n"
          ],
          "name": "stdout"
        }
      ]
    },
    {
      "cell_type": "code",
      "metadata": {
        "id": "wU4oCxesjCNl",
        "colab": {
          "base_uri": "https://localhost:8080/",
          "height": 34
        },
        "outputId": "96d2d8f9-2425-4e66-8b8a-b030d3f4f0f6"
      },
      "source": [
        "class KalkulatorTambah(Kalkulator):\n",
        "    \"\"\"contoh mewarisi kelas kalkulator sederhana\"\"\"\n",
        " \n",
        "    def tambah_angka(self, angka1, angka2):\n",
        "        if angka1 + angka2 <= 9:  # fitur ini sudah oke di kelas dasar, gunakan yang ada saja\n",
        "            super().tambah_angka(angka1, angka2)  # panggil fungsi dari Kalkulator lalu isi nilai\n",
        "        else:  # ini adalah fitur baru yang ingin diperbaiki dari keterbatasan kelas dasar\n",
        "            self.nilai = angka1 + angka2\n",
        "        return self.nilai\n",
        "\n",
        "x = KalkulatorTambah()\n",
        "x.tambah_angka(11, 1)"
      ],
      "execution_count": null,
      "outputs": [
        {
          "output_type": "execute_result",
          "data": {
            "text/plain": [
              "12"
            ]
          },
          "metadata": {
            "tags": []
          },
          "execution_count": 30
        }
      ]
    }
  ]
}